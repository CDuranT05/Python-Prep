{
 "cells": [
  {
   "attachments": {},
   "cell_type": "markdown",
   "metadata": {},
   "source": [
    "## Clases y Programación Orientada a Objetos"
   ]
  },
  {
   "attachments": {},
   "cell_type": "markdown",
   "metadata": {},
   "source": [
    "1) Crear la clase vehículo que contenga los atributos:<br>\n",
    "Color<br>\n",
    "Si es moto, auto, camioneta ó camión<br>\n",
    "Cilindrada del motor"
   ]
  },
  {
   "cell_type": "code",
   "execution_count": 1,
   "metadata": {},
   "outputs": [],
   "source": [
    "class Vehiculo:\n",
    "    def __init__(self, color, tipo, cilindrada):\n",
    "        self.color = color\n",
    "        self.tipo = tipo\n",
    "        self.cilindrada = cilindrada\n",
    "    \n",
    "    "
   ]
  },
  {
   "attachments": {},
   "cell_type": "markdown",
   "metadata": {},
   "source": [
    "2) A la clase Vehiculo creada en el punto 1, agregar los siguientes métodos:<br>\n",
    "Acelerar<br>\n",
    "Frenar<br>\n",
    "Doblar<br>"
   ]
  },
  {
   "cell_type": "code",
   "execution_count": 3,
   "metadata": {},
   "outputs": [],
   "source": [
    "class Vehiculo:\n",
    "    def __init__(self, color, tipo, cilindrada):\n",
    "        self.color = color\n",
    "        self.tipo = tipo\n",
    "        self.cilindrada = cilindrada\n",
    "        self.velocidad= 0\n",
    "        self.direccion= 0\n",
    "    \n",
    "    def acelerar(self, velo):\n",
    "        self.velocidad += velo\n",
    "    \n",
    "    def frenar(self, velo):\n",
    "        self.velocidad -= velo\n",
    "    \n",
    "    def doblar(self, cambio):\n",
    "        self.direccion += cambio "
   ]
  },
  {
   "attachments": {},
   "cell_type": "markdown",
   "metadata": {},
   "source": [
    "3) Instanciar 3 objetos de la clase vehículo y ejecutar sus métodos, probar luego el resultado"
   ]
  },
  {
   "cell_type": "code",
   "execution_count": 4,
   "metadata": {},
   "outputs": [],
   "source": [
    "moto= Vehiculo('negra', 'moto', '3')\n",
    "carrito= Vehiculo('azul', 'carrito pequeno', 5.6)\n",
    "camion= Vehiculo('rojo', 'Camion 720', 10)"
   ]
  },
  {
   "cell_type": "code",
   "execution_count": 10,
   "metadata": {},
   "outputs": [],
   "source": [
    "moto.acelerar(50)\n",
    "moto.frenar(20)\n",
    "moto.doblar(25)\n",
    "\n",
    "carrito.acelerar(50)\n",
    "carrito.frenar(20)\n",
    "carrito.doblar(25)\n",
    "\n",
    "camion.acelerar(50)\n",
    "camion.frenar(20)\n",
    "camion.doblar(25)"
   ]
  },
  {
   "attachments": {},
   "cell_type": "markdown",
   "metadata": {},
   "source": [
    "4) Agregar a la clase Vehiculo, un método que muestre su estado, es decir, a que velocidad se encuentra y su dirección. Y otro método que muestre color, tipo y cilindrada"
   ]
  },
  {
   "cell_type": "code",
   "execution_count": 11,
   "metadata": {},
   "outputs": [],
   "source": [
    "class Vehiculo:\n",
    "    def __init__(self, color, tipo, cilindrada):\n",
    "        self.color = color\n",
    "        self.tipo = tipo\n",
    "        self.cilindrada = cilindrada\n",
    "        self.velocidad= 0\n",
    "        self.direccion= 0\n",
    "    \n",
    "    def acelerar(self, velo):\n",
    "        self.velocidad += velo\n",
    "    \n",
    "    def frenar(self, velo):\n",
    "        self.velocidad -= velo\n",
    "    \n",
    "    def doblar(self, cambio):\n",
    "        self.direccion += cambio \n",
    "        \n",
    "    def estado(self):\n",
    "        print('velocidad ', self.velocidad, '- direccion ', self.direccion)\n",
    "        \n",
    "    def datos(self):\n",
    "        print('soy de color ', self.color, 'soy un ', self.tipo, 'mi cilindrada es ', self.cilindrada)"
   ]
  },
  {
   "cell_type": "code",
   "execution_count": 82,
   "metadata": {},
   "outputs": [
    {
     "name": "stdout",
     "output_type": "stream",
     "text": [
      "soy de color  negro soy un  moto mi cilindrada es  4.4\n",
      "velocidad  50 - direccion  0\n"
     ]
    }
   ],
   "source": [
    "moto= Vehiculo('negro', 'moto', 4.4)\n",
    "moto.datos()\n",
    "moto.acelerar(50)\n",
    "moto.estado()"
   ]
  },
  {
   "attachments": {},
   "cell_type": "markdown",
   "metadata": {},
   "source": [
    "5) Crear una clase que permita utilizar las funciones creadas en la práctica del módulo 7<br>\n",
    "Verificar Primo<br>\n",
    "Valor modal<br>\n",
    "Conversión grados<br>\n",
    "Factorial<br>"
   ]
  },
  {
   "cell_type": "code",
   "execution_count": 61,
   "metadata": {},
   "outputs": [],
   "source": [
    "class Modulo7:\n",
    "    def __init__(self) -> None:\n",
    "        pass\n",
    "        \n",
    "    def esprimo(self, num):\n",
    "        primo=True\n",
    "        if num % 2 == 0:\n",
    "            primo=False\n",
    "        return primo\n",
    "        \n",
    "    \n",
    "    def repetidos(lista):\n",
    "            lista_repetidos={}\n",
    "            for i in lista:\n",
    "                if i in lista_repetidos:\n",
    "                    lista_repetidos[i] += 1\n",
    "                else: lista_repetidos[i] = 1\n",
    "        \n",
    "            maximo_repetido= None    \n",
    "            veces_se_repite= 0\n",
    "    \n",
    "            for num, count in lista_repetidos.items():\n",
    "                if count > veces_se_repite:\n",
    "                    veces_se_repite = count\n",
    "                    maximo_repetido = num\n",
    "            return maximo_repetido, veces_se_repite\n",
    "        \n",
    "    def conversion_de_grados(self, valor, origen,destino):\n",
    "            conversion=0\n",
    "            if origen == 'Celcius':\n",
    "                if destino == 'Celsius':\n",
    "                    conversion = valor\n",
    "                elif destino == 'Farenheit':\n",
    "                    conversion = (valor * 9/5) + 32\n",
    "                elif destino == 'Kelvin':\n",
    "                    conversion= valor + 273.15\n",
    "            \n",
    "            if origen == 'Farenheit':\n",
    "                if destino == 'Farenheit':\n",
    "                    conversion = valor\n",
    "                elif destino== 'Celsius':\n",
    "                    conversion = (valor - 32) * 9/5\n",
    "                elif destino == 'Kelvin':\n",
    "                    conversion = ((valor - 32) * 9/5) + 273.15\n",
    "            \n",
    "            if origen== 'Kelvin' :\n",
    "                if destino == 'Kelvin':\n",
    "                    conversion = valor\n",
    "                elif destino == 'Celsius':\n",
    "                    conversion = valor - 273.15\n",
    "                elif destino == 'Farenheit':\n",
    "                    conversion = ((valor - 273.15) * 9/5  + 32)\n",
    "        \n",
    "            return conversion\n",
    "    def factorial(self, numero):\n",
    "   \n",
    "            if numero < 0:\n",
    "                return 'Debe ser positivo' \n",
    "            if type(numero) != int:\n",
    "                return 'Debe ser entero'\n",
    "            if numero > 1:\n",
    "                numero=numero*self.factorial(numero - 1)\n",
    "            return numero"
   ]
  },
  {
   "attachments": {},
   "cell_type": "markdown",
   "metadata": {},
   "source": [
    "6) Probar las funciones incorporadas en la clase del punto 5"
   ]
  },
  {
   "cell_type": "code",
   "execution_count": 63,
   "metadata": {},
   "outputs": [
    {
     "data": {
      "text/plain": [
       "True"
      ]
     },
     "execution_count": 63,
     "metadata": {},
     "output_type": "execute_result"
    }
   ],
   "source": [
    "prueba1= Modulo7()\n",
    "prueba1.esprimo(9)\n",
    "\n",
    "\n"
   ]
  },
  {
   "attachments": {},
   "cell_type": "markdown",
   "metadata": {},
   "source": [
    "7) Es necesario que la clase creada en el punto 5 contenga una lista, sobre la cual se apliquen las funciones incorporadas"
   ]
  },
  {
   "cell_type": "code",
   "execution_count": 83,
   "metadata": {},
   "outputs": [],
   "source": [
    "class Modulo7:\n",
    "    def __init__(self, lista):\n",
    "        self.lista= lista \n",
    "    \n",
    "    def es_primo(self):\n",
    "        for i in self.lista:\n",
    "            if(self.esprimo(i)):\n",
    "                print('el elemento ', i, ' es primo')\n",
    "            else: print('el elemento ', i, ' no es primo')\n",
    "    \n",
    "    def conversion(self, origen, destino):\n",
    "        for i in self.lista:\n",
    "            print(i, 'grados', origen, ' son ', self.conversion_de_grados(i, origen, destino), 'grados', destino)\n",
    "            \n",
    "    def factorial_lista(self):\n",
    "        for i in self.lista:\n",
    "            print('el factorial de ', i, 'es', self.factorial(i))\n",
    "            \n",
    "    \n",
    "        \n",
    "    def esprimo(self, num):\n",
    "        primo=True\n",
    "        if num % 2 == 0:\n",
    "            primo=False\n",
    "        return primo\n",
    "        \n",
    "    \n",
    "    def repetidos(lista):\n",
    "            lista_repetidos={}\n",
    "            for i in lista:\n",
    "                if i in lista_repetidos:\n",
    "                    lista_repetidos[i] += 1\n",
    "                else: lista_repetidos[i] = 1\n",
    "        \n",
    "            maximo_repetido= None    \n",
    "            veces_se_repite= 0\n",
    "    \n",
    "            for num, count in lista_repetidos.items():\n",
    "                if count > veces_se_repite:\n",
    "                    veces_se_repite = count\n",
    "                    maximo_repetido = num\n",
    "            return maximo_repetido, veces_se_repite\n",
    "        \n",
    "    def conversion_de_grados(self, valor, origen,destino):\n",
    "            conversion=0\n",
    "            if origen == 'Celcius':\n",
    "                if destino == 'Celsius':\n",
    "                    conversion = valor\n",
    "                elif destino == 'Farenheit':\n",
    "                    conversion = (valor * 9/5) + 32\n",
    "                elif destino == 'Kelvin':\n",
    "                    conversion= valor + 273.15\n",
    "            \n",
    "            if origen == 'Farenheit':\n",
    "                if destino == 'Farenheit':\n",
    "                    conversion = valor\n",
    "                elif destino== 'Celsius':\n",
    "                    conversion = (valor - 32) * 9/5\n",
    "                elif destino == 'Kelvin':\n",
    "                    conversion = ((valor - 32) * 9/5) + 273.15\n",
    "            \n",
    "            if origen== 'Kelvin' :\n",
    "                if destino == 'Kelvin':\n",
    "                    conversion = valor\n",
    "                elif destino == 'Celsius':\n",
    "                    conversion = valor - 273.15\n",
    "                elif destino == 'Farenheit':\n",
    "                    conversion = ((valor - 273.15) * 9/5  + 32)\n",
    "        \n",
    "            return conversion\n",
    "    def factorial(self, numero):\n",
    "   \n",
    "            if numero < 0:\n",
    "                return 'Debe ser positivo' \n",
    "            if type(numero) != int:\n",
    "                return 'Debe ser entero'\n",
    "            if numero > 1:\n",
    "                numero=numero*self.factorial(numero - 1)\n",
    "            return numero\n",
    "   "
   ]
  },
  {
   "cell_type": "code",
   "execution_count": 73,
   "metadata": {},
   "outputs": [],
   "source": [
    "lista= Modulo7([1,2,3,4,5,6,7,8,9,12,3,4,1,1,23,34,5])"
   ]
  },
  {
   "cell_type": "code",
   "execution_count": 74,
   "metadata": {},
   "outputs": [
    {
     "name": "stdout",
     "output_type": "stream",
     "text": [
      "1 grados Kelvin  son  -457.87 grados Farenheit\n",
      "2 grados Kelvin  son  -456.07 grados Farenheit\n",
      "3 grados Kelvin  son  -454.27 grados Farenheit\n",
      "4 grados Kelvin  son  -452.46999999999997 grados Farenheit\n",
      "5 grados Kelvin  son  -450.66999999999996 grados Farenheit\n",
      "6 grados Kelvin  son  -448.87 grados Farenheit\n",
      "7 grados Kelvin  son  -447.07 grados Farenheit\n",
      "8 grados Kelvin  son  -445.27 grados Farenheit\n",
      "9 grados Kelvin  son  -443.46999999999997 grados Farenheit\n",
      "12 grados Kelvin  son  -438.07 grados Farenheit\n",
      "3 grados Kelvin  son  -454.27 grados Farenheit\n",
      "4 grados Kelvin  son  -452.46999999999997 grados Farenheit\n",
      "1 grados Kelvin  son  -457.87 grados Farenheit\n",
      "1 grados Kelvin  son  -457.87 grados Farenheit\n",
      "23 grados Kelvin  son  -418.27 grados Farenheit\n",
      "34 grados Kelvin  son  -398.46999999999997 grados Farenheit\n",
      "5 grados Kelvin  son  -450.66999999999996 grados Farenheit\n"
     ]
    }
   ],
   "source": [
    "lista.conversion('Kelvin','Farenheit')"
   ]
  },
  {
   "cell_type": "code",
   "execution_count": 75,
   "metadata": {},
   "outputs": [
    {
     "name": "stdout",
     "output_type": "stream",
     "text": [
      "el elemento  1  es primo\n",
      "el elemento  2  no es primo\n",
      "el elemento  3  es primo\n",
      "el elemento  4  no es primo\n",
      "el elemento  5  es primo\n",
      "el elemento  6  no es primo\n",
      "el elemento  7  es primo\n",
      "el elemento  8  no es primo\n",
      "el elemento  9  es primo\n",
      "el elemento  12  no es primo\n",
      "el elemento  3  es primo\n",
      "el elemento  4  no es primo\n",
      "el elemento  1  es primo\n",
      "el elemento  1  es primo\n",
      "el elemento  23  es primo\n",
      "el elemento  34  no es primo\n",
      "el elemento  5  es primo\n"
     ]
    }
   ],
   "source": [
    "lista.es_primo()"
   ]
  },
  {
   "cell_type": "code",
   "execution_count": 76,
   "metadata": {},
   "outputs": [
    {
     "name": "stdout",
     "output_type": "stream",
     "text": [
      "el factorial de  1 es 1\n",
      "el factorial de  2 es 2\n",
      "el factorial de  3 es 6\n",
      "el factorial de  4 es 24\n",
      "el factorial de  5 es 120\n",
      "el factorial de  6 es 720\n",
      "el factorial de  7 es 5040\n",
      "el factorial de  8 es 40320\n",
      "el factorial de  9 es 362880\n",
      "el factorial de  12 es 479001600\n",
      "el factorial de  3 es 6\n",
      "el factorial de  4 es 24\n",
      "el factorial de  1 es 1\n",
      "el factorial de  1 es 1\n",
      "el factorial de  23 es 25852016738884976640000\n",
      "el factorial de  34 es 295232799039604140847618609643520000000\n",
      "el factorial de  5 es 120\n"
     ]
    }
   ],
   "source": [
    "lista.factorial_lista()"
   ]
  },
  {
   "attachments": {},
   "cell_type": "markdown",
   "metadata": {},
   "source": [
    "8) Crear un archivo .py aparte y ubicar allí la clase generada en el punto anterior. Luego realizar la importación del módulo y probar alguna de sus funciones"
   ]
  },
  {
   "cell_type": "code",
   "execution_count": 80,
   "metadata": {},
   "outputs": [
    {
     "name": "stdout",
     "output_type": "stream",
     "text": [
      "el factorial de  2 es 2\n",
      "el factorial de  3 es 6\n",
      "el factorial de  4 es 24\n",
      "el factorial de  5 es 120\n",
      "el factorial de  6 es 720\n"
     ]
    }
   ],
   "source": [
    "from puntonumero8 import *\n",
    "x= Modulo7([2,3,4,5,6])\n",
    "\n",
    "x.factorial_lista()\n"
   ]
  }
 ],
 "metadata": {
  "interpreter": {
   "hash": "c85384e4cb51c8b72350f3a8712cc8351fdc3955e32a27f9b60c6242ab125f01"
  },
  "kernelspec": {
   "display_name": "Python 3 (ipykernel)",
   "language": "python",
   "name": "python3"
  },
  "language_info": {
   "codemirror_mode": {
    "name": "ipython",
    "version": 3
   },
   "file_extension": ".py",
   "mimetype": "text/x-python",
   "name": "python",
   "nbconvert_exporter": "python",
   "pygments_lexer": "ipython3",
   "version": "3.12.0"
  }
 },
 "nbformat": 4,
 "nbformat_minor": 4
}
