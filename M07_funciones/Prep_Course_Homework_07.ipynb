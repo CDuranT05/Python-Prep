{
 "cells": [
  {
   "attachments": {},
   "cell_type": "markdown",
   "metadata": {},
   "source": [
    "## Funciones"
   ]
  },
  {
   "attachments": {},
   "cell_type": "markdown",
   "metadata": {},
   "source": [
    "1) Crear una función que reciba un número como parámetro y devuelva True si es primo y False si no lo es"
   ]
  },
  {
   "cell_type": "code",
   "execution_count": 4,
   "metadata": {},
   "outputs": [
    {
     "data": {
      "text/plain": [
       "True"
      ]
     },
     "execution_count": 4,
     "metadata": {},
     "output_type": "execute_result"
    }
   ],
   "source": [
    "def es_primo(num):\n",
    "    primo=True\n",
    "    if num % 2 == 0:\n",
    "        primo=False\n",
    "    return primo\n",
    "es_primo(1)"
   ]
  },
  {
   "attachments": {},
   "cell_type": "markdown",
   "metadata": {},
   "source": [
    "2) Utilizando la función del punto 1, realizar otra función que reciba de parámetro una lista de números y devuelva sólo aquellos que son primos en otra lista"
   ]
  },
  {
   "cell_type": "code",
   "execution_count": 5,
   "metadata": {},
   "outputs": [],
   "source": [
    "def lista_de_primos(lista):\n",
    "    lista_vacia=[]\n",
    "    for i in lista:\n",
    "        if es_primo(i):\n",
    "            lista_vacia.append(i)\n",
    "    return lista_vacia"
   ]
  },
  {
   "cell_type": "code",
   "execution_count": 6,
   "metadata": {},
   "outputs": [
    {
     "data": {
      "text/plain": [
       "[1, 3, 5, 7, 9, 21, 27]"
      ]
     },
     "execution_count": 6,
     "metadata": {},
     "output_type": "execute_result"
    }
   ],
   "source": [
    "lista_parametros= [1,2,3,4,5,6,7,8,9,21,27]\n",
    "verificar= lista_de_primos(lista_parametros)\n",
    "verificar"
   ]
  },
  {
   "attachments": {},
   "cell_type": "markdown",
   "metadata": {},
   "source": [
    "3) Crear una función que al recibir una lista de números, devuelva el que más se repite y cuántas veces lo hace. Si hay más de un \"más repetido\", que devuelva cualquiera"
   ]
  },
  {
   "cell_type": "code",
   "execution_count": 18,
   "metadata": {},
   "outputs": [],
   "source": [
    "def repetidos(lista):\n",
    "    lista_repetidos={}\n",
    "    for i in lista:\n",
    "        if i in lista_repetidos:\n",
    "            lista_repetidos[i] += 1\n",
    "        else: lista_repetidos[i] = 1\n",
    "        \n",
    "    maximo_repetido= None    \n",
    "    veces_se_repite= 0\n",
    "    \n",
    "    for num, count in lista_repetidos.items():\n",
    "        if count > veces_se_repite:\n",
    "            veces_se_repite = count\n",
    "            maximo_repetido = num\n",
    "    return maximo_repetido, veces_se_repite\n"
   ]
  },
  {
   "cell_type": "code",
   "execution_count": 19,
   "metadata": {},
   "outputs": [
    {
     "name": "stdout",
     "output_type": "stream",
     "text": [
      "(4, 3)\n"
     ]
    }
   ],
   "source": [
    "lista_nueva= [1,2,3,4,5,5,6,4,4]\n",
    "comprobando= repetidos(lista_nueva)\n",
    "print(comprobando)"
   ]
  },
  {
   "attachments": {},
   "cell_type": "markdown",
   "metadata": {},
   "source": [
    "4) Crear una función que convierta entre grados Celsius, Farenheit y Kelvin<br>\n",
    "Fórmula 1\t: (°C × 9/5) + 32 = °F<br>\n",
    "Fórmula 2\t: °C + 273.15 = °K<br>\n",
    "Debe recibir 3 parámetros: el valor, la medida de orígen y la medida de destino\n"
   ]
  },
  {
   "cell_type": "code",
   "execution_count": 28,
   "metadata": {},
   "outputs": [],
   "source": [
    "def conversion_de_grados(valor, origen,destino):\n",
    "    conversion=0\n",
    "    if origen == 'Celcius':\n",
    "        if destino == 'Celsius':\n",
    "            conversion = valor\n",
    "        elif destino == 'Farenheit':\n",
    "            conversion = (valor * 9/5) + 32\n",
    "        elif destino == 'Kelvin':\n",
    "            conversion= valor + 273.15\n",
    "    \n",
    "    if origen == 'Farenheit':\n",
    "        if destino == 'Farenheit':\n",
    "            conversion = valor\n",
    "        elif destino== 'Celsius':\n",
    "            conversion = (valor - 32) * 9/5\n",
    "        elif destino == 'Kelvin':\n",
    "            conversion = ((valor - 32) * 9/5) + 273.15\n",
    "    \n",
    "    if origen== 'Kelvin' :\n",
    "        if destino == 'Kelvin':\n",
    "            conversion = valor\n",
    "        elif destino == 'Celsius':\n",
    "            conversion = valor - 273.15\n",
    "        elif destino == 'Farenheit':\n",
    "            conversion = ((valor - 273.15) * 9/5  + 32)\n",
    "   \n",
    "    return conversion"
   ]
  },
  {
   "cell_type": "code",
   "execution_count": 33,
   "metadata": {},
   "outputs": [
    {
     "name": "stdout",
     "output_type": "stream",
     "text": [
      "1 grado Celsius a Celsius: 0\n",
      "1 grado Celsius a Kelvin: 0\n",
      "1 grado Celsius a Farenheit: 0\n",
      "1 grado Kelvin a Celsius: -272.15\n",
      "1 grado Kelvin a Kelvin: 1\n",
      "1 grado Kelvin a Farenheit: -457.87\n",
      "1 grado Farenheit a Celsius: -55.8\n",
      "1 grado Farenheit a Kelvin: 217.34999999999997\n",
      "1 grado Farenheit a Farenheit: 1\n"
     ]
    }
   ],
   "source": [
    "print('1 grado Celsius a Celsius:', conversion_de_grados(1, 'Celsius', 'Celsius'))\n",
    "print('1 grado Celsius a Kelvin:', conversion_de_grados(1, 'Kelsius', 'Kelvin'))\n",
    "print('1 grado Celsius a Farenheit:', conversion_de_grados(1, 'Celsius', 'Farenheit'))\n",
    "print('1 grado Kelvin a Celsius:', conversion_de_grados(1, 'Kelvin', 'Celsius'))\n",
    "print('1 grado Kelvin a Kelvin:', conversion_de_grados(1, 'Kelvin', 'Kelvin'))\n",
    "print('1 grado Kelvin a Farenheit:', conversion_de_grados(1, 'Kelvin', 'Farenheit'))\n",
    "print('1 grado Farenheit a Celsius:', conversion_de_grados(1, 'Farenheit', 'Celsius'))\n",
    "print('1 grado Farenheit a Kelvin:', conversion_de_grados(1, 'Farenheit', 'Kelvin'))\n",
    "print('1 grado Farenheit a Farenheit:', conversion_de_grados(1, 'Farenheit', 'Farenheit'))"
   ]
  },
  {
   "attachments": {},
   "cell_type": "markdown",
   "metadata": {},
   "source": [
    "5) Iterando una lista con los tres valores posibles de temperatura que recibe la función del punto 5, hacer un print para cada combinación de los mismos:"
   ]
  },
  {
   "cell_type": "code",
   "execution_count": 38,
   "metadata": {},
   "outputs": [
    {
     "name": "stdout",
     "output_type": "stream",
     "text": [
      "1 grado Celsius a  Celsius 0\n",
      "1 grado Celsius a  Farenheit 0\n",
      "1 grado Celsius a  Kelvin 0\n",
      "1 grado Farenheit a  Celsius -55.8\n",
      "1 grado Farenheit a  Farenheit 1\n",
      "1 grado Farenheit a  Kelvin 217.34999999999997\n",
      "1 grado Kelvin a  Celsius -272.15\n",
      "1 grado Kelvin a  Farenheit -457.87\n",
      "1 grado Kelvin a  Kelvin 1\n"
     ]
    }
   ],
   "source": [
    "medidas= ['Celsius', 'Farenheit', 'Kelvin']\n",
    "\n",
    "for i in range(0,3):\n",
    "    for j in range(0, 3):\n",
    "        print('1 grado', medidas[i], 'a ', medidas[j], conversion_de_grados(1,medidas[i], medidas[j] ))"
   ]
  },
  {
   "attachments": {},
   "cell_type": "markdown",
   "metadata": {},
   "source": [
    "6) Armar una función que devuelva el factorial de un número. Tener en cuenta que el usuario puede equivocarse y enviar de parámetro un número no entero o negativo"
   ]
  },
  {
   "cell_type": "code",
   "execution_count": 58,
   "metadata": {},
   "outputs": [],
   "source": [
    "def factorial(numero):\n",
    "   \n",
    "    if numero < 0:\n",
    "        return 'Debe ser positivo' \n",
    "    if type(numero) != int:\n",
    "        return 'Debe ser entero'\n",
    "    if numero > 1:\n",
    "        numero=numero*factorial(numero - 1)\n",
    "    return numero"
   ]
  },
  {
   "cell_type": "code",
   "execution_count": 61,
   "metadata": {},
   "outputs": [
    {
     "name": "stdout",
     "output_type": "stream",
     "text": [
      "24\n"
     ]
    }
   ],
   "source": [
    "print(factorial(4))"
   ]
  }
 ],
 "metadata": {
  "interpreter": {
   "hash": "c85384e4cb51c8b72350f3a8712cc8351fdc3955e32a27f9b60c6242ab125f01"
  },
  "kernelspec": {
   "display_name": "Python 3 (ipykernel)",
   "language": "python",
   "name": "python3"
  },
  "language_info": {
   "codemirror_mode": {
    "name": "ipython",
    "version": 3
   },
   "file_extension": ".py",
   "mimetype": "text/x-python",
   "name": "python",
   "nbconvert_exporter": "python",
   "pygments_lexer": "ipython3",
   "version": "3.12.0"
  }
 },
 "nbformat": 4,
 "nbformat_minor": 4
}
