{
 "cells": [
  {
   "attachments": {},
   "cell_type": "markdown",
   "metadata": {},
   "source": [
    "## Flujos de Control"
   ]
  },
  {
   "attachments": {},
   "cell_type": "markdown",
   "metadata": {},
   "source": [
    "1) Crear una variable que contenga un elemento del conjunto de números enteros y luego imprimir por pantalla si es mayor o menor a cero"
   ]
  },
  {
   "cell_type": "code",
   "execution_count": 16,
   "metadata": {},
   "outputs": [
    {
     "name": "stdout",
     "output_type": "stream",
     "text": [
      "es mayor a 0\n"
     ]
    }
   ],
   "source": [
    "var= 23\n",
    "if var > 0:\n",
    "    print('es mayor a 0')\n",
    "else: print('es menor a cero')"
   ]
  },
  {
   "attachments": {},
   "cell_type": "markdown",
   "metadata": {},
   "source": [
    "2) Crear dos variables y un condicional que informe si son del mismo tipo de dato"
   ]
  },
  {
   "cell_type": "code",
   "execution_count": 2,
   "metadata": {},
   "outputs": [
    {
     "name": "stdout",
     "output_type": "stream",
     "text": [
      " el tipo de dato es diferente \n"
     ]
    }
   ],
   "source": [
    "var1= 12\n",
    "var2= \"12\"\n",
    "if var1 == var2:\n",
    "    print('el tipo de dato es el mismo')\n",
    "else: print(' el tipo de dato es diferente ')"
   ]
  },
  {
   "attachments": {},
   "cell_type": "markdown",
   "metadata": {},
   "source": [
    "3) Para los valores enteros del 1 al 20, imprimir por pantalla si es par o impar"
   ]
  },
  {
   "cell_type": "code",
   "execution_count": 15,
   "metadata": {},
   "outputs": [
    {
     "name": "stdout",
     "output_type": "stream",
     "text": [
      "el numero  1  es impar\n",
      "el numero  2  es par\n",
      "el numero  3  es impar\n",
      "el numero  4  es par\n",
      "el numero  5  es impar\n",
      "el numero  6  es par\n",
      "el numero  7  es impar\n",
      "el numero  8  es par\n",
      "el numero  9  es impar\n",
      "el numero  10  es par\n",
      "el numero  11  es impar\n",
      "el numero  12  es par\n",
      "el numero  13  es impar\n",
      "el numero  14  es par\n",
      "el numero  15  es impar\n",
      "el numero  16  es par\n",
      "el numero  17  es impar\n",
      "el numero  18  es par\n",
      "el numero  19  es impar\n",
      "el numero  20  es par\n"
     ]
    }
   ],
   "source": [
    "for i in range(1,21):\n",
    "    if i % 2 ==0:\n",
    "        print('el numero ', str(i), ' es par' )\n",
    "    else:\n",
    "        print('el numero ', str(i), ' es impar')"
   ]
  },
  {
   "attachments": {},
   "cell_type": "markdown",
   "metadata": {},
   "source": [
    "4) En un ciclo for mostrar para los valores entre 0 y 5 el resultado de elevarlo a la potencia igual a 3"
   ]
  },
  {
   "cell_type": "code",
   "execution_count": 17,
   "metadata": {},
   "outputs": [
    {
     "name": "stdout",
     "output_type": "stream",
     "text": [
      "1\n",
      "8\n",
      "27\n",
      "64\n"
     ]
    }
   ],
   "source": [
    "for i in range(1,6):\n",
    "    print(i ** 3)"
   ]
  },
  {
   "attachments": {},
   "cell_type": "markdown",
   "metadata": {},
   "source": [
    "5) Crear una variable que contenga un número entero y realizar un ciclo for la misma cantidad de ciclos"
   ]
  },
  {
   "cell_type": "code",
   "execution_count": 18,
   "metadata": {},
   "outputs": [
    {
     "name": "stdout",
     "output_type": "stream",
     "text": [
      "19\n"
     ]
    }
   ],
   "source": [
    "n= 20\n",
    "for i in range(0, n):\n",
    "    pass\n",
    "print(i)"
   ]
  },
  {
   "attachments": {},
   "cell_type": "markdown",
   "metadata": {},
   "source": [
    "6) Utilizar un ciclo while para realizar el factorial de un número guardado en una variable, sólo si la variable contiene un número entero mayor a 0"
   ]
  },
  {
   "cell_type": "code",
   "execution_count": 27,
   "metadata": {},
   "outputs": [
    {
     "name": "stdout",
     "output_type": "stream",
     "text": [
      " el factorial es 20\n"
     ]
    }
   ],
   "source": [
    "b= 10\n",
    "if (type(b)== int):\n",
    "    if (b > 0):\n",
    "        factorial = b\n",
    "        while (b > 2):\n",
    "            b = b - 1\n",
    "        factorial = factorial * b\n",
    "        print(' el factorial es', factorial)\n",
    "    else: print('el factorial noes mayor a cero')\n",
    "else:print('el factorial no es un entero')\n",
    "        "
   ]
  },
  {
   "attachments": {},
   "cell_type": "markdown",
   "metadata": {},
   "source": [
    "7) Crear un ciclo for dentro de un ciclo while"
   ]
  },
  {
   "cell_type": "code",
   "execution_count": 27,
   "metadata": {},
   "outputs": [
    {
     "name": "stdout",
     "output_type": "stream",
     "text": [
      " samy tiene 4\n",
      "samy cumple 5\n",
      "samy cumple 6\n",
      "samy cumple 7\n",
      "samy cumple 8\n"
     ]
    }
   ],
   "source": [
    "samy=4\n",
    "while samy < 5:\n",
    "    print(' samy tiene '+ str(samy))\n",
    "    for i in range(4):\n",
    "        samy += 1\n",
    "        print('samy cumple ' + str(samy))"
   ]
  },
  {
   "attachments": {},
   "cell_type": "markdown",
   "metadata": {},
   "source": [
    "8) Crear un ciclo while dentro de un ciclo for"
   ]
  },
  {
   "cell_type": "code",
   "execution_count": 78,
   "metadata": {},
   "outputs": [
    {
     "name": "stdout",
     "output_type": "stream",
     "text": [
      "samy cumple 5\n",
      "samy cumple 6\n",
      "samy cumple 7\n",
      "samy cumple 8\n",
      "samy cumple 9\n",
      "samy cumple 10\n"
     ]
    }
   ],
   "source": [
    "samy=4\n",
    "for i in range(4): \n",
    "    while samy < 10:\n",
    "        samy += 1\n",
    "        print('samy cumple ' + str(samy))"
   ]
  },
  {
   "attachments": {},
   "cell_type": "markdown",
   "metadata": {},
   "source": [
    "9) Imprimir los números primos existentes entre 0 y 30"
   ]
  },
  {
   "cell_type": "code",
   "execution_count": 64,
   "metadata": {},
   "outputs": [
    {
     "name": "stdout",
     "output_type": "stream",
     "text": [
      "0\n",
      "1\n",
      "2\n",
      "3\n",
      "5\n",
      "7\n",
      "11\n",
      "13\n",
      "17\n",
      "19\n",
      "23\n",
      "29\n"
     ]
    }
   ],
   "source": [
    "tope= 30\n",
    "n= 0\n",
    "primo= True\n",
    "while n < tope:\n",
    "    for div in range(2, n):\n",
    "        if (n % div ==0):\n",
    "            primo=False\n",
    "    if primo:\n",
    "        print(n)  \n",
    "    else: primo = True\n",
    "    n += 1  "
   ]
  },
  {
   "attachments": {},
   "cell_type": "markdown",
   "metadata": {},
   "source": [
    "10) ¿Se puede mejorar el proceso del punto 9? Utilizar las sentencias break y/ó continue para tal fin"
   ]
  },
  {
   "cell_type": "code",
   "execution_count": 65,
   "metadata": {},
   "outputs": [
    {
     "name": "stdout",
     "output_type": "stream",
     "text": [
      "0\n",
      "1\n",
      "2\n",
      "3\n",
      "5\n",
      "7\n",
      "11\n",
      "13\n",
      "17\n",
      "19\n",
      "23\n",
      "29\n"
     ]
    }
   ],
   "source": [
    "tope= 30\n",
    "n= 0\n",
    "primo= True\n",
    "while n < tope:\n",
    "    for div in range(2, n):\n",
    "        if (n % div ==0):\n",
    "            primo=False\n",
    "            break\n",
    "    if primo:\n",
    "        print(n)  \n",
    "    else: primo = True\n",
    "    n += 1  "
   ]
  },
  {
   "attachments": {},
   "cell_type": "markdown",
   "metadata": {},
   "source": [
    "11) En los puntos 9 y 10, se diseño un código que encuentra números primos y además se lo optimizó. ¿Es posible saber en qué medida se optimizó?"
   ]
  },
  {
   "cell_type": "code",
   "execution_count": 71,
   "metadata": {},
   "outputs": [
    {
     "name": "stdout",
     "output_type": "stream",
     "text": [
      "0\n",
      "1\n",
      "2\n",
      "3\n",
      "5\n",
      "7\n",
      "11\n",
      "13\n",
      "17\n",
      "19\n",
      "23\n",
      "29\n",
      "ciclos sin break 378\n"
     ]
    }
   ],
   "source": [
    "ciclos_sin_break=0\n",
    "tope= 30\n",
    "n= 0\n",
    "primo= True\n",
    "while n < tope:\n",
    "    for div in range(2, n):\n",
    "        ciclos_sin_break += 1\n",
    "        if (n % div ==0):\n",
    "            primo=False\n",
    "    if primo:\n",
    "        print(n)  \n",
    "    else: primo = True\n",
    "    n += 1\n",
    "    \n",
    "print('ciclos sin break ' + str(ciclos_sin_break) )"
   ]
  },
  {
   "cell_type": "code",
   "execution_count": 72,
   "metadata": {},
   "outputs": [
    {
     "name": "stdout",
     "output_type": "stream",
     "text": [
      "0\n",
      "1\n",
      "2\n",
      "3\n",
      "5\n",
      "7\n",
      "11\n",
      "13\n",
      "17\n",
      "19\n",
      "23\n",
      "29\n",
      "ciclos sin break 378\n",
      "Se optimizó a un 0.3544973544973545% de ciclos aplicando break\n"
     ]
    }
   ],
   "source": [
    "ciclos_con_break=0\n",
    "tope= 30\n",
    "n= 0\n",
    "primo= True\n",
    "while n < tope:\n",
    "    for div in range(2, n):\n",
    "        ciclos_con_break += 1\n",
    "        if (n % div ==0):\n",
    "            primo=False\n",
    "            break\n",
    "    if primo:\n",
    "        print(n)  \n",
    "    else: primo = True\n",
    "    n += 1\n",
    "    \n",
    "print('ciclos sin break ' + str(ciclos_sin_break) )\n",
    "print('Se optimizó a un ' + str(ciclos_con_break/ciclos_sin_break) + '% de ciclos aplicando break')"
   ]
  },
  {
   "attachments": {},
   "cell_type": "markdown",
   "metadata": {},
   "source": [
    "12) Aplicando continue, armar un ciclo while que solo imprima los valores divisibles por 12, dentro del rango de números de 100 a 300"
   ]
  },
  {
   "cell_type": "code",
   "execution_count": 79,
   "metadata": {},
   "outputs": [
    {
     "name": "stdout",
     "output_type": "stream",
     "text": [
      "108 este numero es divisible por 12\n",
      "120 este numero es divisible por 12\n",
      "132 este numero es divisible por 12\n",
      "144 este numero es divisible por 12\n",
      "156 este numero es divisible por 12\n",
      "168 este numero es divisible por 12\n",
      "180 este numero es divisible por 12\n",
      "192 este numero es divisible por 12\n",
      "204 este numero es divisible por 12\n",
      "216 este numero es divisible por 12\n",
      "228 este numero es divisible por 12\n",
      "240 este numero es divisible por 12\n",
      "252 este numero es divisible por 12\n",
      "264 este numero es divisible por 12\n",
      "276 este numero es divisible por 12\n",
      "288 este numero es divisible por 12\n",
      "300 este numero es divisible por 12\n"
     ]
    }
   ],
   "source": [
    "n= 99\n",
    "while n <= 300:\n",
    "    n+= 1\n",
    "    if n % 12 != 0:\n",
    "        continue\n",
    "    print(n, 'este numero es divisible por 12')"
   ]
  },
  {
   "attachments": {},
   "cell_type": "markdown",
   "metadata": {},
   "source": [
    "13) Utilizar la función **input()** que permite hacer ingresos por teclado, para encontrar números primos y dar la opción al usario de buscar el siguiente"
   ]
  },
  {
   "cell_type": "code",
   "execution_count": 6,
   "metadata": {},
   "outputs": [
    {
     "name": "stdout",
     "output_type": "stream",
     "text": [
      "este numero no es primo\n"
     ]
    }
   ],
   "source": [
    "primo= int(input('quieres encontrar el siguiente numero primo'))\n",
    "if primo % 2 == 0 :\n",
    "    print('este numero no es primo')\n",
    "else: \n",
    "    print(primo)\n",
    "    \n"
   ]
  },
  {
   "attachments": {},
   "cell_type": "markdown",
   "metadata": {},
   "source": [
    "14) Crear un ciclo while que encuentre dentro del rango de 100 a 300 el primer número divisible por 3 y además múltiplo de 6"
   ]
  },
  {
   "cell_type": "code",
   "execution_count": 83,
   "metadata": {},
   "outputs": [
    {
     "name": "stdout",
     "output_type": "stream",
     "text": [
      "este es el numero que buscaba102\n"
     ]
    }
   ],
   "source": [
    "n= 99\n",
    "while n <=300:\n",
    "    if n % 6 == 0:\n",
    "        print('este es el numero que buscaba' + str(n))\n",
    "        break\n",
    "    n+=1\n",
    "    "
   ]
  }
 ],
 "metadata": {
  "interpreter": {
   "hash": "c85384e4cb51c8b72350f3a8712cc8351fdc3955e32a27f9b60c6242ab125f01"
  },
  "kernelspec": {
   "display_name": "Python 3 (ipykernel)",
   "language": "python",
   "name": "python3"
  },
  "language_info": {
   "codemirror_mode": {
    "name": "ipython",
    "version": 3
   },
   "file_extension": ".py",
   "mimetype": "text/x-python",
   "name": "python",
   "nbconvert_exporter": "python",
   "pygments_lexer": "ipython3",
   "version": "3.12.0"
  }
 },
 "nbformat": 4,
 "nbformat_minor": 4
}
